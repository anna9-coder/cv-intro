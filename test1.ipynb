{
 "cells": [
  {
   "cell_type": "code",
   "execution_count": 2,
   "id": "65c51621-a83b-4bc5-b93c-5a73c10df80c",
   "metadata": {},
   "outputs": [
    {
     "name": "stdout",
     "output_type": "stream",
     "text": [
      "OpenCV: 4.12.0\n",
      "Hello from bluecv\n",
      "OpenCV: 4.12.0\n"
     ]
    }
   ],
   "source": [
    "import cv2, numpy as np\n",
    "print(\"OpenCV:\", cv2.__version__)\n",
    "\n",
    "print(\"Hello from bluecv\")\n",
    "print(\"OpenCV:\", cv2.__version__)"
   ]
  },
  {
   "cell_type": "code",
   "execution_count": null,
   "id": "4c914efa-1537-4bd4-9f5a-c13b04265b11",
   "metadata": {},
   "outputs": [],
   "source": []
  }
 ],
 "metadata": {
  "kernelspec": {
   "display_name": "Python (bluecv)",
   "language": "python",
   "name": "bluecv"
  },
  "language_info": {
   "codemirror_mode": {
    "name": "ipython",
    "version": 3
   },
   "file_extension": ".py",
   "mimetype": "text/x-python",
   "name": "python",
   "nbconvert_exporter": "python",
   "pygments_lexer": "ipython3",
   "version": "3.12.3"
  }
 },
 "nbformat": 4,
 "nbformat_minor": 5
}
